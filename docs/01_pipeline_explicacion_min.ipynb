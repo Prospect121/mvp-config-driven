{
 "cells": [
  {
   "cell_type": "markdown",
   "id": "951c9fe6",
   "metadata": {},
   "source": [
    "# Notebook mínimo de validación\n",
    "\n",
    "Verifica que Jupyter y PySpark funcionan y que se puede leer/escribir Parquet localmente."
   ]
  },
  {
   "cell_type": "code",
   "execution_count": 1,
   "id": "3432c4e8",
   "metadata": {},
   "outputs": [
    {
     "name": "stdout",
     "output_type": "stream",
     "text": [
      "PySpark no disponible: No module named 'pyspark'\n"
     ]
    }
   ],
   "source": [
    "# Versiones y disponibilidad\n",
    "try:\n",
    "    import pyspark\n",
    "    print('PySpark:', pyspark.__version__)\n",
    "except Exception as e:\n",
    "    print('PySpark no disponible:', e)\n"
   ]
  },
  {
   "cell_type": "code",
   "execution_count": null,
   "id": "2b3264b8",
   "metadata": {},
   "outputs": [],
   "source": [
    "# SparkSession mínima\n",
    "from pyspark.sql import SparkSession\n",
    "spark = SparkSession.builder.master('local[1]').appName('min-check').getOrCreate()\n",
    "print('Spark version:', spark.version)\n"
   ]
  },
  {
   "cell_type": "code",
   "execution_count": null,
   "id": "3460e357",
   "metadata": {},
   "outputs": [],
   "source": [
    "# DF pequeño y escritura\n",
    "df = spark.createDataFrame([(1, 'ok'), (2, 'ready')], ['id','status'])\n",
    "df.show()\n",
    "\n",
    "path = 'tmp/min_nb_output'\n",
    "df.write.mode('overwrite').parquet(path)\n",
    "print('Escrito en', path)\n",
    "\n",
    "df2 = spark.read.parquet(path)\n",
    "print('Leído:', df2.count(), 'filas')\n"
   ]
  },
  {
   "cell_type": "code",
   "execution_count": null,
   "id": "c5028973",
   "metadata": {},
   "outputs": [],
   "source": [
    "spark.stop()\n",
    "print('Spark detenido')\n"
   ]
  },
  {
   "cell_type": "code",
   "execution_count": null,
   "id": "6ddbbdcb-157d-4a22-b320-a28206659d0f",
   "metadata": {},
   "outputs": [],
   "source": []
  }
 ],
 "metadata": {
  "kernelspec": {
   "display_name": "Python [conda env:base] *",
   "language": "python",
   "name": "conda-base-py"
  },
  "language_info": {
   "codemirror_mode": {
    "name": "ipython",
    "version": 3
   },
   "file_extension": ".py",
   "mimetype": "text/x-python",
   "name": "python",
   "nbconvert_exporter": "python",
   "pygments_lexer": "ipython3",
   "version": "3.13.5"
  }
 },
 "nbformat": 4,
 "nbformat_minor": 5
}
